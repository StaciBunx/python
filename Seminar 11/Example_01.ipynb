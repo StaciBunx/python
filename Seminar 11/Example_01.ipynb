{
 "cells": [
  {
   "cell_type": "markdown",
   "id": "4cec83a4",
   "metadata": {},
   "source": [
    "Дана функция f(x) = 5x^2 + 10x - 30\n",
    "1. Определить корни"
   ]
  },
  {
   "cell_type": "code",
   "execution_count": 1,
   "id": "a41a7cd9",
   "metadata": {},
   "outputs": [],
   "source": [
    "from sympy import *"
   ]
  },
  {
   "cell_type": "code",
   "execution_count": 2,
   "id": "11d9c019",
   "metadata": {},
   "outputs": [
    {
     "data": {
      "text/plain": [
       "[-1 + sqrt(7), -sqrt(7) - 1]"
      ]
     },
     "execution_count": 2,
     "metadata": {},
     "output_type": "execute_result"
    }
   ],
   "source": [
    "x = Symbol('x')\n",
    "solve(5*x**2+10*x-30, x)"
   ]
  },
  {
   "cell_type": "markdown",
   "id": "8aac4aad",
   "metadata": {},
   "source": [
    "2. Найти интервалы, на которых функция возрастает"
   ]
  },
  {
   "cell_type": "code",
   "execution_count": 3,
   "id": "f63e36f2",
   "metadata": {},
   "outputs": [
    {
     "data": {
      "text/plain": [
       "False"
      ]
     },
     "execution_count": 3,
     "metadata": {},
     "output_type": "execute_result"
    }
   ],
   "source": [
    "is_increasing(5*x**2+10*x-30)"
   ]
  },
  {
   "cell_type": "code",
   "execution_count": null,
   "id": "977941ef",
   "metadata": {},
   "outputs": [],
   "source": []
  }
 ],
 "metadata": {
  "kernelspec": {
   "display_name": "Python 3 (ipykernel)",
   "language": "python",
   "name": "python3"
  },
  "language_info": {
   "codemirror_mode": {
    "name": "ipython",
    "version": 3
   },
   "file_extension": ".py",
   "mimetype": "text/x-python",
   "name": "python",
   "nbconvert_exporter": "python",
   "pygments_lexer": "ipython3",
   "version": "3.9.12"
  }
 },
 "nbformat": 4,
 "nbformat_minor": 5
}
